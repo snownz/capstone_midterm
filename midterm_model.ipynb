{
 "cells": [
  {
   "cell_type": "code",
   "execution_count": 1,
   "metadata": {},
   "outputs": [],
   "source": [
    "import numpy as np\n",
    "import pandas as pd\n",
    "import torch\n",
    "import seaborn as sns\n",
    "\n",
    "from sklearn.metrics import confusion_matrix, make_scorer\n",
    "from sklearn.metrics import accuracy_score, precision_score, recall_score, f1_score, classification_report\n",
    "\n",
    "from midterm_lib import DataProcessing, LogisticRegressionModel, evaluate_models\n",
    "\n",
    "import warnings\n",
    "warnings.filterwarnings(\"ignore\")\n",
    "\n",
    "import torch\n",
    "from sklearn.linear_model import LogisticRegression\n",
    "\n",
    "import pickle\n",
    "\n",
    "from tqdm import tqdm\n",
    "\n",
    "import seaborn as sns\n",
    "\n",
    "import warnings\n",
    "warnings.filterwarnings(\"ignore\")"
   ]
  },
  {
   "cell_type": "code",
   "execution_count": 2,
   "metadata": {},
   "outputs": [],
   "source": [
    "scenario_name = 'scenario_2'"
   ]
  },
  {
   "cell_type": "code",
   "execution_count": 3,
   "metadata": {},
   "outputs": [],
   "source": [
    "dataset = pd.read_csv( f'./{scenario_name}/risk-train-processed.csv' )\n",
    "dataset.replace( '?', None, inplace = True )\n",
    "\n",
    "data_processing = DataProcessing( scenario_name, dataset, one_hot_encoding = True )"
   ]
  },
  {
   "cell_type": "code",
   "execution_count": 4,
   "metadata": {},
   "outputs": [],
   "source": [
    "( id_train, id_test ), x_train, x_test, y_train, y_test = data_processing.get_train_test( test_size = 0.15, target = 'CLUSTER'  )"
   ]
  },
  {
   "cell_type": "code",
   "execution_count": 5,
   "metadata": {},
   "outputs": [
    {
     "name": "stdout",
     "output_type": "stream",
     "text": [
      "Accuracy: 0.9989078001274233\n",
      "Precision: 0.9986005678493867\n",
      "Recall: 0.9898098878977887\n",
      "F1 Score: 0.9919637075838822\n"
     ]
    }
   ],
   "source": [
    "segmentation_model = LogisticRegression()\n",
    "segmentation_model.fit( x_train[0], y_train )\n",
    "y_pred = segmentation_model.predict( x_test[0] )\n",
    "\n",
    "print( f'Accuracy: {accuracy_score( y_test, y_pred )}' )\n",
    "print( f'Precision: {precision_score( y_test, y_pred, average = \"macro\" )}' )\n",
    "print( f'Recall: {recall_score( y_test, y_pred, average = \"macro\" )}' )\n",
    "print( f'F1 Score: {f1_score( y_test, y_pred, average = \"macro\" )}' )"
   ]
  },
  {
   "cell_type": "code",
   "execution_count": 6,
   "metadata": {},
   "outputs": [],
   "source": [
    "# save segmentation_model\n",
    "with open( f'./{scenario_name}/segmentation_model.pkl', 'wb' ) as f:\n",
    "    pickle.dump( segmentation_model, f )"
   ]
  },
  {
   "cell_type": "code",
   "execution_count": 7,
   "metadata": {},
   "outputs": [
    {
     "name": "stdout",
     "output_type": "stream",
     "text": [
      "Class distribution: [55116  3478]\n"
     ]
    }
   ],
   "source": [
    "( id_train, id_test ), x_train, x_test, y_train, y_test = data_processing.get_train_test( test_size = 0.2, target = 'CLASS' )\n",
    "\n",
    "x_train_onehot = x_train[0]\n",
    "x_test_onehot = x_test[0]\n",
    "\n",
    "x_train_class = x_train[1]\n",
    "x_test_class = x_test[1]\n",
    "\n",
    "print(\"Class distribution:\", np.bincount( y_train ))"
   ]
  },
  {
   "cell_type": "code",
   "execution_count": 8,
   "metadata": {},
   "outputs": [],
   "source": [
    "segmentation_classes_train = segmentation_model.predict( x_train_onehot )\n",
    "segmentation_classes_test = segmentation_model.predict( x_test_onehot )\n",
    "\n",
    "x_train_class = np.concatenate( ( segmentation_classes_train.reshape( -1, 1 ), x_train_class ), axis = 1 )\n",
    "x_test_class = np.concatenate( ( segmentation_classes_test.reshape( -1, 1 ), x_test_class ), axis = 1 )"
   ]
  },
  {
   "cell_type": "code",
   "execution_count": 9,
   "metadata": {},
   "outputs": [
    {
     "data": {
      "text/plain": [
       "((58594, 33), (14649, 33), (58594,), (14649,))"
      ]
     },
     "execution_count": 9,
     "metadata": {},
     "output_type": "execute_result"
    }
   ],
   "source": [
    "x_train_class.shape, x_test_class.shape, y_train.shape, y_test.shape"
   ]
  },
  {
   "cell_type": "code",
   "execution_count": 10,
   "metadata": {},
   "outputs": [
    {
     "data": {
      "text/plain": [
       "((58594, 696), (14649, 696), (58594,), (14649,))"
      ]
     },
     "execution_count": 10,
     "metadata": {},
     "output_type": "execute_result"
    }
   ],
   "source": [
    "x_train_onehot.shape, x_test_onehot.shape, y_train.shape, y_test.shape"
   ]
  },
  {
   "cell_type": "code",
   "execution_count": 11,
   "metadata": {},
   "outputs": [],
   "source": [
    "# ensemble_models = evaluate_models( x_train_class, x_test_class, y_train, y_test )\n",
    "\n",
    "# save the ensemble models with pickle\n",
    "# with open( f'./{scenario_name}/ensemble_models.pkl', 'wb' ) as file:\n",
    "#    pickle.dump( ensemble_models, file )"
   ]
  },
  {
   "cell_type": "code",
   "execution_count": 12,
   "metadata": {},
   "outputs": [
    {
     "name": "stdout",
     "output_type": "stream",
     "text": [
      "Decision Tree\n",
      "Report:\n",
      "              precision    recall  f1-score   support\n",
      "\n",
      "           0       0.99      0.99      0.99     13779\n",
      "           1       0.77      0.80      0.79       870\n",
      "\n",
      "    accuracy                           0.97     14649\n",
      "   macro avg       0.88      0.89      0.89     14649\n",
      "weighted avg       0.97      0.97      0.97     14649\n",
      "\n",
      "Random Forest\n",
      "Report:\n",
      "              precision    recall  f1-score   support\n",
      "\n",
      "           0       0.97      1.00      0.98     13779\n",
      "           1       1.00      0.46      0.63       870\n",
      "\n",
      "    accuracy                           0.97     14649\n",
      "   macro avg       0.98      0.73      0.81     14649\n",
      "weighted avg       0.97      0.97      0.96     14649\n",
      "\n",
      "K-Nearest Neighbors\n",
      "Report:\n",
      "              precision    recall  f1-score   support\n",
      "\n",
      "           0       0.94      0.99      0.96     13779\n",
      "           1       0.17      0.05      0.07       870\n",
      "\n",
      "    accuracy                           0.93     14649\n",
      "   macro avg       0.56      0.52      0.52     14649\n",
      "weighted avg       0.90      0.93      0.91     14649\n",
      "\n",
      "XGBoost\n",
      "Report:\n",
      "              precision    recall  f1-score   support\n",
      "\n",
      "           0       0.96      1.00      0.98     13779\n",
      "           1       0.95      0.34      0.50       870\n",
      "\n",
      "    accuracy                           0.96     14649\n",
      "   macro avg       0.95      0.67      0.74     14649\n",
      "weighted avg       0.96      0.96      0.95     14649\n",
      "\n",
      "Support Vector Classifier\n",
      "Report:\n",
      "              precision    recall  f1-score   support\n",
      "\n",
      "           0       0.94      0.99      0.97     13779\n",
      "           1       0.22      0.04      0.07       870\n",
      "\n",
      "    accuracy                           0.93     14649\n",
      "   macro avg       0.58      0.52      0.52     14649\n",
      "weighted avg       0.90      0.93      0.91     14649\n",
      "\n"
     ]
    }
   ],
   "source": [
    "with open( f'./{scenario_name}/ensemble_models.pkl', 'rb' ) as file:\n",
    "    ensemble_models = pickle.load( file )\n",
    "\n",
    "for m in ensemble_models:\n",
    "    md = ensemble_models[m]['model']\n",
    "    y_pred = md.predict( x_test_class )\n",
    "    print(m)\n",
    "    print(f'Report:\\n{classification_report(y_test, y_pred)}')"
   ]
  },
  {
   "cell_type": "code",
   "execution_count": 13,
   "metadata": {},
   "outputs": [],
   "source": [
    "# ( id_train, id_test ), x_train, x_test, y_train, y_test = data_processing.get_train_test( test_size = 0.2, target = 'CLASS', random_state = 12 )\n",
    "\n",
    "x_train_onehot = x_train[0]\n",
    "x_test_onehot = x_test[0]\n",
    "\n",
    "x_train_class = x_train[1]\n",
    "x_test_class = x_test[1]\n",
    "\n",
    "segmentation_classes_train = segmentation_model.predict( x_train_onehot )\n",
    "segmentation_classes_test = segmentation_model.predict( x_test_onehot )\n",
    "\n",
    "x_train_class = np.concatenate( ( segmentation_classes_train.reshape( -1, 1 ), x_train_class ), axis = 1 )\n",
    "x_test_class = np.concatenate( ( segmentation_classes_test.reshape( -1, 1 ), x_test_class ), axis = 1 )"
   ]
  },
  {
   "cell_type": "code",
   "execution_count": 14,
   "metadata": {},
   "outputs": [
    {
     "name": "stderr",
     "output_type": "stream",
     "text": [
      "100%|██████████| 5/5 [00:20<00:00,  4.02s/it]\n"
     ]
    },
    {
     "data": {
      "text/plain": [
       "((58594, 5), (14649, 5))"
      ]
     },
     "execution_count": 14,
     "metadata": {},
     "output_type": "execute_result"
    }
   ],
   "source": [
    "ensemble_predictions_train = []\n",
    "ensemble_predictions_test = []\n",
    "for model_name, model_data in tqdm( ensemble_models.items() ):\n",
    "    \n",
    "    model = model_data['model']\n",
    "    y_pred_train = model.predict( x_train_class )\n",
    "    y_pred_test = model.predict( x_test_class )\n",
    "\n",
    "    ensemble_predictions_train.append( y_pred_train )\n",
    "    ensemble_predictions_test.append( y_pred_test )\n",
    "    \n",
    "ensemble_predictions_train = np.array( ensemble_predictions_train )\n",
    "ensemble_predictions_test = np.array( ensemble_predictions_test )\n",
    "ensemble_predictions_train = np.transpose( ensemble_predictions_train )\n",
    "ensemble_predictions_test = np.transpose( ensemble_predictions_test )\n",
    "ensemble_predictions_train.shape, ensemble_predictions_test.shape"
   ]
  },
  {
   "cell_type": "code",
   "execution_count": 15,
   "metadata": {},
   "outputs": [
    {
     "data": {
      "text/plain": [
       "device(type='cuda')"
      ]
     },
     "execution_count": 15,
     "metadata": {},
     "output_type": "execute_result"
    }
   ],
   "source": [
    "device = torch.device( 'cuda' if torch.cuda.is_available() else 'cpu' )\n",
    "device"
   ]
  },
  {
   "cell_type": "code",
   "execution_count": 16,
   "metadata": {},
   "outputs": [
    {
     "data": {
      "text/plain": [
       "LogisticRegressionModel()"
      ]
     },
     "execution_count": 16,
     "metadata": {},
     "output_type": "execute_result"
    }
   ],
   "source": [
    "model = LogisticRegressionModel( 696, f'./{scenario_name}/logs/', 'logistic_regression', 76, device = device )\n",
    "model.to( device )"
   ]
  },
  {
   "cell_type": "code",
   "execution_count": 17,
   "metadata": {},
   "outputs": [
    {
     "name": "stdout",
     "output_type": "stream",
     "text": [
      "Fold 1\n"
     ]
    },
    {
     "name": "stderr",
     "output_type": "stream",
     "text": [
      "Epochs: 100%|██████████| 100/100 [02:14<00:00,  1.34s/epoch, loss=0.237]\n"
     ]
    },
    {
     "name": "stdout",
     "output_type": "stream",
     "text": [
      "Fold 1 Results:\n",
      "Num High Risk predicted as Low Risk: 0\n",
      "Num High Risk predicted as High Risk: 870\n",
      "\n",
      "Num Low Risk predicted as Low Risk: 13779\n",
      "Num Low Risk predicted as High Risk: 0\n",
      "\n",
      "Accuracy: 1.0\n",
      "Precision: 1.0\n",
      "Recall: 1.0\n",
      "F1 Score: 1.0\n",
      "Fold 2\n"
     ]
    },
    {
     "name": "stderr",
     "output_type": "stream",
     "text": [
      "Epochs: 100%|██████████| 100/100 [02:04<00:00,  1.25s/epoch, loss=0.265]\n"
     ]
    },
    {
     "name": "stdout",
     "output_type": "stream",
     "text": [
      "Fold 2 Results:\n",
      "Num High Risk predicted as Low Risk: 0\n",
      "Num High Risk predicted as High Risk: 870\n",
      "\n",
      "Num Low Risk predicted as Low Risk: 13777\n",
      "Num Low Risk predicted as High Risk: 2\n",
      "\n",
      "Accuracy: 0.9998634719093453\n",
      "Precision: 0.9977064220183486\n",
      "Recall: 1.0\n",
      "F1 Score: 0.9988518943742823\n",
      "Fold 3\n"
     ]
    },
    {
     "name": "stderr",
     "output_type": "stream",
     "text": [
      "Epochs: 100%|██████████| 100/100 [02:04<00:00,  1.25s/epoch, loss=0.232]\n"
     ]
    },
    {
     "name": "stdout",
     "output_type": "stream",
     "text": [
      "Fold 3 Results:\n",
      "Num High Risk predicted as Low Risk: 0\n",
      "Num High Risk predicted as High Risk: 869\n",
      "\n",
      "Num Low Risk predicted as Low Risk: 13778\n",
      "Num Low Risk predicted as High Risk: 1\n",
      "\n",
      "Accuracy: 0.9999317312943746\n",
      "Precision: 0.9988505747126437\n",
      "Recall: 1.0\n",
      "F1 Score: 0.9994249568717654\n",
      "Fold 4\n"
     ]
    },
    {
     "name": "stderr",
     "output_type": "stream",
     "text": [
      "Epochs: 100%|██████████| 100/100 [02:01<00:00,  1.22s/epoch, loss=0.214]"
     ]
    },
    {
     "name": "stdout",
     "output_type": "stream",
     "text": [
      "Fold 4 Results:\n",
      "Num High Risk predicted as Low Risk: 0\n",
      "Num High Risk predicted as High Risk: 869\n",
      "\n",
      "Num Low Risk predicted as Low Risk: 13779\n",
      "Num Low Risk predicted as High Risk: 0\n",
      "\n",
      "Accuracy: 1.0\n",
      "Precision: 1.0\n",
      "Recall: 1.0\n",
      "F1 Score: 1.0\n",
      "\n",
      "Cross-Validation Results (Averaged):\n",
      "Average Accuracy: 0.99994880080093\n",
      "Average Precision: 0.9991392491827481\n",
      "Average Recall: 1.0\n",
      "Average F1 Score: 0.9995692128115119\n",
      "\n",
      "\n",
      "=======================================================================================\n",
      "\n",
      "Saved to: ./scenario_2/logs/logistic_regression - 0\n",
      "\n",
      "=======================================================================================\n",
      "\n",
      "\n"
     ]
    },
    {
     "name": "stderr",
     "output_type": "stream",
     "text": [
      "\n"
     ]
    }
   ],
   "source": [
    "model.k_fold_cross_validation_fit( ( x_train_onehot, segmentation_classes_train, ensemble_predictions_train ), y_train, k = 4, \n",
    "                                   epochs = 100, lr = 1e-4, rho = 1.5, batch_size = 128 )\n",
    "model.save()"
   ]
  },
  {
   "cell_type": "code",
   "execution_count": 18,
   "metadata": {},
   "outputs": [
    {
     "data": {
      "text/html": [
       "<div>\n",
       "<style scoped>\n",
       "    .dataframe tbody tr th:only-of-type {\n",
       "        vertical-align: middle;\n",
       "    }\n",
       "\n",
       "    .dataframe tbody tr th {\n",
       "        vertical-align: top;\n",
       "    }\n",
       "\n",
       "    .dataframe thead th {\n",
       "        text-align: right;\n",
       "    }\n",
       "</style>\n",
       "<table border=\"1\" class=\"dataframe\">\n",
       "  <thead>\n",
       "    <tr style=\"text-align: right;\">\n",
       "      <th></th>\n",
       "      <th>y_test</th>\n",
       "      <th>y_hat</th>\n",
       "    </tr>\n",
       "    <tr>\n",
       "      <th>id</th>\n",
       "      <th></th>\n",
       "      <th></th>\n",
       "    </tr>\n",
       "  </thead>\n",
       "  <tbody>\n",
       "    <tr>\n",
       "      <th>1</th>\n",
       "      <td>0</td>\n",
       "      <td>0.037580</td>\n",
       "    </tr>\n",
       "    <tr>\n",
       "      <th>3</th>\n",
       "      <td>0</td>\n",
       "      <td>0.029682</td>\n",
       "    </tr>\n",
       "    <tr>\n",
       "      <th>6</th>\n",
       "      <td>0</td>\n",
       "      <td>0.034330</td>\n",
       "    </tr>\n",
       "    <tr>\n",
       "      <th>10</th>\n",
       "      <td>0</td>\n",
       "      <td>0.027169</td>\n",
       "    </tr>\n",
       "    <tr>\n",
       "      <th>13</th>\n",
       "      <td>0</td>\n",
       "      <td>0.027208</td>\n",
       "    </tr>\n",
       "  </tbody>\n",
       "</table>\n",
       "</div>"
      ],
      "text/plain": [
       "    y_test     y_hat\n",
       "id                  \n",
       "1        0  0.037580\n",
       "3        0  0.029682\n",
       "6        0  0.034330\n",
       "10       0  0.027169\n",
       "13       0  0.027208"
      ]
     },
     "execution_count": 18,
     "metadata": {},
     "output_type": "execute_result"
    }
   ],
   "source": [
    "x_test_tensor = torch.tensor( x_test_onehot, dtype = torch.float32 ).to( device )\n",
    "x_groups_tensor = torch.tensor( segmentation_classes_test, dtype = torch.long ).to( device )\n",
    "x_ensemble_tensor = torch.tensor( ensemble_predictions_test, dtype = torch.float32 ).to( device )\n",
    "y_test_tensor = torch.tensor( y_test, dtype = torch.float32 ).to( device )\n",
    "\n",
    "y_hat = model.predict( ( x_test_tensor, x_groups_tensor, x_ensemble_tensor ) )\n",
    "\n",
    "df = pd.DataFrame( { 'y_test': y_test, 'y_hat': y_hat, 'id': id_test } )\n",
    "df = df.groupby( 'id' ).agg( { 'y_test': 'first', 'y_hat': 'mean' } )\n",
    "df.head()"
   ]
  },
  {
   "cell_type": "code",
   "execution_count": 19,
   "metadata": {},
   "outputs": [],
   "source": [
    "# Multiply y_hat by 100 and round by 4 decimal places\n",
    "y_hat = np.round( df['y_hat'].values * 100, 4 )"
   ]
  },
  {
   "cell_type": "code",
   "execution_count": 20,
   "metadata": {},
   "outputs": [
    {
     "data": {
      "text/plain": [
       "<Axes: ylabel='Count'>"
      ]
     },
     "execution_count": 20,
     "metadata": {},
     "output_type": "execute_result"
    },
    {
     "data": {
      "image/png": "[encoded data removed]",
      "text/plain": [
       "<Figure size 640x480 with 1 Axes>"
      ]
     },
     "metadata": {},
     "output_type": "display_data"
    }
   ],
   "source": [
    "# plot the distribution of probabilities of y_hat for y = 0\n",
    "sns.histplot( y_hat[ df['y_test'] == 0 ], color = 'blue', label = 'y = 0', kde = True )"
   ]
  },
  {
   "cell_type": "code",
   "execution_count": 21,
   "metadata": {},
   "outputs": [
    {
     "data": {
      "text/plain": [
       "<Axes: ylabel='Count'>"
      ]
     },
     "execution_count": 21,
     "metadata": {},
     "output_type": "execute_result"
    },
    {
     "data": {
      "image/png": "[encoded data removed]",
      "text/plain": [
       "<Figure size 640x480 with 1 Axes>"
      ]
     },
     "metadata": {},
     "output_type": "display_data"
    }
   ],
   "source": [
    "sns.histplot( y_hat[ df['y_test'] == 1 ], color = 'blue', label = 'y = 0', kde = True )"
   ]
  },
  {
   "cell_type": "code",
   "execution_count": 26,
   "metadata": {},
   "outputs": [
    {
     "name": "stdout",
     "output_type": "stream",
     "text": [
      "Num High Risk predicted as Low Risk: 109\n",
      "Num High Risk predicted as High Risk: 609\n",
      "\n",
      "Num Low Risk predicted as Low Risk: 11270\n",
      "Num Low Risk predicted as High Risk: 290\n",
      "\n",
      "Accuracy: 0.9675028506271379\n",
      "Precision: 0.6774193548387096\n",
      "Recall: 0.8481894150417827\n",
      "F1: 0.7532467532467533\n"
     ]
    }
   ],
   "source": [
    "y_hat_bin = ( np.round( y_hat ) > 40 ).astype( int )\n",
    "\n",
    "print( f\"Num High Risk predicted as Low Risk: {len( y_hat_bin[ ( y_hat_bin == 0 ) & ( df['y_test'] == 1 ) ] ) }\" )\n",
    "print( f\"Num High Risk predicted as High Risk: {len( y_hat_bin[ ( y_hat_bin == 1 ) & ( df['y_test'] == 1 ) ] ) }\\n\" )\n",
    "\n",
    "print( f\"Num Low Risk predicted as Low Risk: {len( y_hat_bin[ ( y_hat_bin == 0 ) & ( df['y_test'] == 0 ) ] ) }\" )\n",
    "print( f\"Num Low Risk predicted as High Risk: {len( y_hat_bin[ ( y_hat_bin == 1 ) & ( df['y_test'] == 0 ) ] ) }\\n\" )\n",
    "\n",
    "print( f\"Accuracy: {accuracy_score( df['y_test'].values, y_hat_bin )}\" )\n",
    "print( f\"Precision: {precision_score( df['y_test'].values, y_hat_bin )}\" )\n",
    "print( f\"Recall: {recall_score( df['y_test'].values, y_hat_bin )}\" )\n",
    "print( f\"F1: {f1_score( df['y_test'].values, y_hat_bin )}\" )"
   ]
  },
  {
   "cell_type": "code",
   "execution_count": 23,
   "metadata": {},
   "outputs": [],
   "source": [
    "# x_torch = torch.tensor( x_train_resampled, dtype = torch.float32 )\n",
    "# y_torch = torch.tensor( y_train_resampled, dtype = torch.float32 )\n",
    "# model.fit( x_torch, y_torch, epochs = 2000, lr = 1e-4, batch_size = 2048 )"
   ]
  }
 ],
 "metadata": {
  "kernelspec": {
   "display_name": "torch_gpu",
   "language": "python",
   "name": "python3"
  },
  "language_info": {
   "codemirror_mode": {
    "name": "ipython",
    "version": 3
   },
   "file_extension": ".py",
   "mimetype": "text/x-python",
   "name": "python",
   "nbconvert_exporter": "python",
   "pygments_lexer": "ipython3",
   "version": "3.11.5"
  }
 },
 "nbformat": 4,
 "nbformat_minor": 2
}
