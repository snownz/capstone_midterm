{
 "cells": [
  {
   "cell_type": "code",
   "execution_count": 1,
   "metadata": {},
   "outputs": [],
   "source": [
    "import numpy as np\n",
    "import pandas as pd\n",
    "import torch\n",
    "import seaborn as sns\n",
    "\n",
    "from sklearn.metrics import accuracy_score, precision_score, recall_score, f1_score, classification_report\n",
    "\n",
    "from midterm_lib import DataProcessing, HibriModel\n",
    "\n",
    "import warnings\n",
    "warnings.filterwarnings(\"ignore\")\n",
    "\n",
    "import torch\n",
    "import seaborn as sns\n",
    "\n",
    "import warnings\n",
    "warnings.filterwarnings(\"ignore\")"
   ]
  },
  {
   "cell_type": "code",
   "execution_count": 2,
   "metadata": {},
   "outputs": [],
   "source": [
    "scenario_name = 'scenario_2'"
   ]
  },
  {
   "cell_type": "code",
   "execution_count": 3,
   "metadata": {},
   "outputs": [],
   "source": [
    "dataset_file = f'./{scenario_name}/risk-train-processed.csv'\n",
    "dataset = pd.read_csv( dataset_file )\n",
    "dataset.replace( '?', None, inplace = True )\n",
    "\n",
    "data_processing = DataProcessing( scenario_name, dataset, one_hot_encoding = True )\n",
    "( id_train, id_test ), x_train, x_test, y_train, y_test = data_processing.get_train_test( test_size = 0.2, target = 'CLASS' )"
   ]
  },
  {
   "cell_type": "code",
   "execution_count": 4,
   "metadata": {},
   "outputs": [
    {
     "name": "stdout",
     "output_type": "stream",
     "text": [
      "./scenario_2/logs/logistic_regression/checkpoint_0.pth\n",
      "\n",
      "Unmatched parameters in the pretrained model:\n",
      "\n",
      "Unmatched parameters in the current model:\n",
      "\n",
      "\n",
      "=======================================================================================\n",
      "\n",
      "<All keys matched successfully>\n",
      "\n",
      "\n",
      "=======================================================================================\n",
      "\n",
      "Loaded from: ./scenario_2/logs/logistic_regression - 0\n",
      "\n",
      "=======================================================================================\n",
      "\n",
      "\n"
     ]
    }
   ],
   "source": [
    "model = HibriModel( scenario_name )"
   ]
  },
  {
   "cell_type": "code",
   "execution_count": 5,
   "metadata": {},
   "outputs": [
    {
     "name": "stderr",
     "output_type": "stream",
     "text": [
      "100%|██████████| 5/5 [00:04<00:00,  1.07it/s]\n"
     ]
    }
   ],
   "source": [
    "\"\"\"\n",
    "    Possible Models:\n",
    "    - Decision Tree\n",
    "    - Random Forest\n",
    "    - K-Nearest Neighbors\n",
    "    - XGBoost\n",
    "    - Support Vector Classifier\n",
    "    - Ensemble\n",
    "\"\"\"\n",
    "df_pred = model.predict( ( id_test, x_test[0], x_test[1] ), selected_model = 'Ensemble' )\n",
    "\n",
    "df_pred['target'] = df_pred['ORDER_ID'].map( dataset.set_index( 'ORDER_ID' )['CLASS'] )\n",
    "df_pred['target'] = df_pred['target'].apply( lambda x: 1 if x == 'yes' else 0 )\n",
    "df_pred['predicted_class'] = df_pred['predicted'].apply( lambda x: round( x ) )"
   ]
  },
  {
   "cell_type": "code",
   "execution_count": 6,
   "metadata": {},
   "outputs": [
    {
     "name": "stdout",
     "output_type": "stream",
     "text": [
      "Accuracy: 0.9679100830754195\n",
      "Precision: 0.6812080536912751\n",
      "Recall: 0.8481894150417827\n",
      "F1: 0.7555831265508685\n",
      "              precision    recall  f1-score   support\n",
      "\n",
      "           0       0.99      0.98      0.98     11560\n",
      "           1       0.68      0.85      0.76       718\n",
      "\n",
      "    accuracy                           0.97     12278\n",
      "   macro avg       0.84      0.91      0.87     12278\n",
      "weighted avg       0.97      0.97      0.97     12278\n",
      "\n"
     ]
    }
   ],
   "source": [
    "print( f'Accuracy: {accuracy_score( df_pred[\"target\"], df_pred[\"predicted_class\"] )}' )\n",
    "print( f'Precision: {precision_score( df_pred[\"target\"], df_pred[\"predicted_class\"] )}' )\n",
    "print( f'Recall: {recall_score( df_pred[\"target\"], df_pred[\"predicted_class\"] )}' )\n",
    "print( f'F1: {f1_score( df_pred[\"target\"], df_pred[\"predicted_class\"] )}' )\n",
    "\n",
    "print( classification_report( df_pred[\"target\"], df_pred[\"predicted_class\"] ) )"
   ]
  },
  {
   "cell_type": "code",
   "execution_count": 7,
   "metadata": {},
   "outputs": [
    {
     "name": "stdout",
     "output_type": "stream",
     "text": [
      "Num High Risk predicted as Low Risk: 109\n",
      "Num High Risk predicted as High Risk: 609\n",
      "\n",
      "Num Low Risk predicted as Low Risk: 11275\n",
      "Num Low Risk predicted as High Risk: 285\n",
      "\n"
     ]
    }
   ],
   "source": [
    "print( f\"Num High Risk predicted as Low Risk: {len( df_pred[ ( df_pred['predicted_class'] == 0 ) & ( df_pred['target'] == 1 ) ] ) }\" )\n",
    "print( f\"Num High Risk predicted as High Risk: {len( df_pred[ ( df_pred['predicted_class'] == 1 ) & ( df_pred['target'] == 1 ) ] ) }\\n\" )\n",
    "\n",
    "print( f\"Num Low Risk predicted as Low Risk: {len( df_pred[ ( df_pred['predicted_class'] == 0 ) & ( df_pred['target'] == 0 ) ] ) }\" )\n",
    "print( f\"Num Low Risk predicted as High Risk: {len( df_pred[ ( df_pred['predicted_class'] == 1 ) & ( df_pred['target'] == 0 ) ] ) }\\n\" )\n"
   ]
  },
  {
   "cell_type": "code",
   "execution_count": 13,
   "metadata": {},
   "outputs": [
    {
     "data": {
      "text/plain": [
       "<Axes: >"
      ]
     },
     "execution_count": 13,
     "metadata": {},
     "output_type": "execute_result"
    },
    {
     "data": {
      "image/png": "[encoded data removed]",
      "text/plain": [
       "<Figure size 640x480 with 1 Axes>"
      ]
     },
     "metadata": {},
     "output_type": "display_data"
    }
   ],
   "source": [
    "df_pred[ ( df_pred['target'] == 0 ) & ( df_pred['predicted_class'] == 0 ) ]['Confidence'].hist( bins = 20 )"
   ]
  },
  {
   "cell_type": "code",
   "execution_count": 10,
   "metadata": {},
   "outputs": [
    {
     "data": {
      "text/plain": [
       "<Axes: >"
      ]
     },
     "execution_count": 10,
     "metadata": {},
     "output_type": "execute_result"
    },
    {
     "data": {
      "image/png": "[encoded data removed]",
      "text/plain": [
       "<Figure size 640x480 with 1 Axes>"
      ]
     },
     "metadata": {},
     "output_type": "display_data"
    }
   ],
   "source": [
    "df_pred[ ( df_pred['target'] == 1 ) & ( df_pred['predicted_class'] == 1 ) ]['Unified Confidence'].hist( bins = 20 )"
   ]
  }
 ],
 "metadata": {
  "kernelspec": {
   "display_name": "torch_gpu",
   "language": "python",
   "name": "python3"
  },
  "language_info": {
   "codemirror_mode": {
    "name": "ipython",
    "version": 3
   },
   "file_extension": ".py",
   "mimetype": "text/x-python",
   "name": "python",
   "nbconvert_exporter": "python",
   "pygments_lexer": "ipython3",
   "version": "3.11.5"
  }
 },
 "nbformat": 4,
 "nbformat_minor": 2
}
